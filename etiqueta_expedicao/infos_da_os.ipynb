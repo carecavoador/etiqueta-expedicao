{
 "cells": [
  {
   "attachments": {},
   "cell_type": "markdown",
   "metadata": {},
   "source": [
    "```\n",
    "linha 11 -> OS, Pedido, Versão, Cliente: '853664 1 1 Inplasul'\n",
    "linha 12 -> Descrição: '588058 EMB IMP FILME HOT HIT CHEDDAR E BACON 145G - JBS'\n",
    "...\n",
    "Itens para Expedir:\n",
    "De Item Para Transportadora Data e Horário Qtd\n",
    "==>> aqui fica a relação de itens a expedir <<==\n",
    "Print Layout Inplasul Entregue na Industria 23/06/23 Inplasul  08:00 1\n",
    "Clichês Inplasul Entregue na Industria 23/06/23 Inplasul  08:00 1\n",
    "Prova Digital Inplasul Entregue na Industria 23/06/23 Inplasul  08:00 1\n",
    "Observações:\n",
    "...\n",
    "```"
   ]
  },
  {
   "cell_type": "code",
   "execution_count": 3,
   "metadata": {},
   "outputs": [],
   "source": [
    "from pathlib import Path\n",
    "import pypdf\n",
    "\n",
    "# Mockup 1\n",
    "arquivo = \"mockup/OS_853664_1_V1.pdf\"\n",
    "reader = pypdf.PdfReader(arquivo)\n",
    "\n",
    "# Mockup 2\n",
    "arquivo2 = \"mockup/OS_424770_54_V10.pdf\"\n",
    "# reader = pypdf.PdfReader(arquivo2)\n",
    "\n",
    "pagina = reader.pages[0]\n",
    "texto = pagina.extract_text()\n",
    "texto = texto.splitlines()\n",
    "info_pedido = texto[10].split()\n",
    "num_os = info_pedido[0]\n",
    "num_pedido = info_pedido[1]\n",
    "num_versao = info_pedido[2]\n",
    "cliente = \" \".join(info_pedido[3:])"
   ]
  },
  {
   "cell_type": "code",
   "execution_count": 16,
   "metadata": {},
   "outputs": [],
   "source": [
    "def carrega_infos_pedido(arquivo: Path) -> tuple[int, int, int, str] | None:\n",
    "    if not arquivo.suffix.lower() == \".pdf\":\n",
    "        return None\n",
    "    reader = pypdf.PdfReader(arquivo)\n",
    "    pagina = reader.pages[0]\n",
    "    texto = pagina.extract_text()\n",
    "    \n",
    "    try:\n",
    "        # Informações do pedido estão na 11a linha do arquivo\n",
    "        info_pedido = texto[10].split()\n",
    "        num_os = int(info_pedido[0])\n",
    "        num_pedido = int(info_pedido[1])\n",
    "        num_versao = int(info_pedido[2])\n",
    "        cliente = \" \".join(info_pedido[3:])\n",
    "        print(num_os, num_pedido, num_versao, cliente)\n",
    "        return num_os, num_pedido, num_versao, cliente\n",
    "    except IndexError:\n",
    "        print(\"IndexError\", arquivo)\n",
    "    except ValueError:\n",
    "        print(\"ValueError\", arquivo)"
   ]
  }
 ],
 "metadata": {
  "kernelspec": {
   "display_name": "etiqueta-expedicao-jLdCx0Ji-py3.11",
   "language": "python",
   "name": "python3"
  },
  "language_info": {
   "codemirror_mode": {
    "name": "ipython",
    "version": 3
   },
   "file_extension": ".py",
   "mimetype": "text/x-python",
   "name": "python",
   "nbconvert_exporter": "python",
   "pygments_lexer": "ipython3",
   "version": "3.11.4"
  },
  "orig_nbformat": 4
 },
 "nbformat": 4,
 "nbformat_minor": 2
}
